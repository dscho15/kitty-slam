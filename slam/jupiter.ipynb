{
 "cells": [
  {
   "cell_type": "code",
   "execution_count": 6,
   "metadata": {},
   "outputs": [],
   "source": [
    "import open3d as o3d"
   ]
  },
  {
   "cell_type": "code",
   "execution_count": 2,
   "metadata": {},
   "outputs": [
    {
     "ename": "SyntaxError",
     "evalue": "invalid syntax (1796805568.py, line 1)",
     "output_type": "error",
     "traceback": [
      "\u001b[0;36m  File \u001b[0;32m\"/tmp/ipykernel_385818/1796805568.py\"\u001b[0;36m, line \u001b[0;32m1\u001b[0m\n\u001b[0;31m    from open3d import\u001b[0m\n\u001b[0m                       ^\u001b[0m\n\u001b[0;31mSyntaxError\u001b[0m\u001b[0;31m:\u001b[0m invalid syntax\n"
     ]
    }
   ],
   "source": [
    "from open3d import *\n",
    "import matplotlib.pyplot as plt\n",
    "\n",
    "    # openImgWithCV('../TestData/RGBD/color/00000.jpg')\n",
    "if __name__ == \"__main__\":\n",
    "\n",
    "    print(\"Read Redwood dataset\")\n",
    "\n",
    "    color_raw = read_image(\"../TestData/RGBD/color/00000.jpg\")\n",
    "    depth_raw = read_image(\"../TestData/RGBD/depth/00000.png\")\n",
    "    rgbd_image = create_rgbd_image_from_color_and_depth(color_raw, depth_raw);\n",
    "    print(rgbd_image)\n",
    "\n",
    "    # plt.subplot(1, 2, 1)\n",
    "    # plt.title('Redwood grayscale image')\n",
    "    # plt.imshow(rgbd_image.color)\n",
    "\n",
    "    # plt.subplot(1, 2, 2)\n",
    "    # plt.title('Redwood depth image')\n",
    "    # plt.imshow(rgbd_image.depth)\n",
    "    # plt.show()\n",
    "\n",
    "    pcd = create_point_cloud_from_rgbd_image(rgbd_image, PinholeCameraIntrinsic(PinholeCameraIntrinsicParameters.PrimeSenseDefault))\n",
    "    # Flip it, otherwise the pointcloud will be upside down\n",
    "    pcd.transform([[1, 0, 0, 0], [0, -1, 0, 0], [0, 0, -1, 0], [0, 0, 0, 1]])\n",
    "    draw_geometries([pcd])\n",
    "    # print(draw_geometries([]))\n",
    "    print(pcd)"
   ]
  },
  {
   "cell_type": "code",
   "execution_count": null,
   "metadata": {},
   "outputs": [],
   "source": []
  }
 ],
 "metadata": {
  "interpreter": {
   "hash": "f168caa56b485fd9e7247675d4ad6585934e1d683b1fc71c10fb30c646df2590"
  },
  "kernelspec": {
   "display_name": "Python 3.8.12 ('slam')",
   "language": "python",
   "name": "python3"
  },
  "language_info": {
   "codemirror_mode": {
    "name": "ipython",
    "version": 3
   },
   "file_extension": ".py",
   "mimetype": "text/x-python",
   "name": "python",
   "nbconvert_exporter": "python",
   "pygments_lexer": "ipython3",
   "version": "3.8.12"
  },
  "orig_nbformat": 4
 },
 "nbformat": 4,
 "nbformat_minor": 2
}
